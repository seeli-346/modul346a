{
 "cells": [
  {
   "cell_type": "markdown",
   "metadata": {},
   "source": [
    "# API Aufrufe mit Python !!!"
   ]
  },
  {
   "cell_type": "code",
   "execution_count": 1,
   "metadata": {},
   "outputs": [],
   "source": [
    "import requests\n",
    "import json"
   ]
  },
  {
   "cell_type": "markdown",
   "metadata": {},
   "source": [
    "Wir beginnen damit, dass wir die vorher erfassten Users abrufen\n",
    "\n",
    "Dazu musst du die zuvor für dich generierte URL in der nächsten Zelle eintragen"
   ]
  },
  {
   "cell_type": "code",
   "execution_count": 9,
   "metadata": {},
   "outputs": [
    {
     "data": {
      "text/plain": [
       "'https://caa2525eb283a6eb7bb3.free.beeceptor.com/api/users/53cdb3d3e63deab29105'"
      ]
     },
     "execution_count": 9,
     "metadata": {},
     "output_type": "execute_result"
    }
   ],
   "source": [
    "url = \"https://caa2525eb283a6eb7bb3.free.beeceptor.com/api/users\"\n",
    "url2 = url + '/53cdb3d3e63deab29105'\n",
    "\n",
    "url2"
   ]
  },
  {
   "cell_type": "code",
   "execution_count": 15,
   "metadata": {},
   "outputs": [
    {
     "data": {
      "text/plain": [
       "[{'first_name': 'Doris',\n",
       "  'last_name': 'Mustermann',\n",
       "  'age': 25,\n",
       "  'is_active': True,\n",
       "  'id': '0715be21c82328fe1323'},\n",
       " {'first_name': 'Felix',\n",
       "  'last_name': 'Huber',\n",
       "  'age': 22,\n",
       "  'is_active': True,\n",
       "  'id': '74f8603d8f8088e4558a'}]"
      ]
     },
     "execution_count": 15,
     "metadata": {},
     "output_type": "execute_result"
    }
   ],
   "source": [
    "# Make the Get request\n",
    "response = requests.get(\n",
    "    url=url\n",
    ")\n",
    "\n",
    "response.json()"
   ]
  },
  {
   "cell_type": "code",
   "execution_count": null,
   "metadata": {},
   "outputs": [
    {
     "name": "stdout",
     "output_type": "stream",
     "text": [
      "{'first_name': 'Felix', 'last_name': 'Huber', 'age': 22, 'is_active': True, 'id': '74f8603d8f8088e4558a'}\n"
     ]
    }
   ],
   "source": [
    "# Jetzt erfassen wir einen neuen User\n",
    "\n",
    "headers = {\n",
    "    'Content-Type': 'application/json',\n",
    "    'Accept': 'application/json'\n",
    "}\n",
    "\n",
    "data = {\n",
    "  \"first_name\": \"Felix\",\n",
    "  \"last_name\": \"Huber\",\n",
    "  \"age\": 22,\n",
    "  \"is_active\": True\n",
    "}\n",
    "\n",
    "# Make the POST request\n",
    "response = requests.post(\n",
    "    url= url,\n",
    "    data=json.dumps(data),\n",
    "    headers=headers\n",
    ")\n",
    "\n",
    "print(response.json())\n",
    "\n"
   ]
  },
  {
   "cell_type": "code",
   "execution_count": 13,
   "metadata": {},
   "outputs": [
    {
     "name": "stdout",
     "output_type": "stream",
     "text": [
      "{'first_name': 'Maxi', 'last_name': 'Mustermann', 'age': 44, 'is_active': True, 'id': '53cdb3d3e63deab29105'}\n"
     ]
    }
   ],
   "source": [
    "data2 = {\n",
    "  \"first_name\": \"Maxi\",\n",
    "  \"last_name\": \"Mustermann\",\n",
    "  \"age\": 44,\n",
    "  \"is_active\": True\n",
    "}\n",
    "\n",
    "response = requests.put(\n",
    "    url= url2,\n",
    "    data=json.dumps(data2),\n",
    "    headers=headers\n",
    ")\n",
    "\n",
    "print(response.json())\n"
   ]
  },
  {
   "cell_type": "code",
   "execution_count": 14,
   "metadata": {},
   "outputs": [
    {
     "data": {
      "text/plain": [
       "<Response [200]>"
      ]
     },
     "execution_count": 14,
     "metadata": {},
     "output_type": "execute_result"
    }
   ],
   "source": [
    "response = requests.delete(\n",
    "    url= url2\n",
    "\n",
    ")\n",
    "\n",
    "response"
   ]
  }
 ],
 "metadata": {
  "kernelspec": {
   "display_name": "Python 3",
   "language": "python",
   "name": "python3"
  },
  "language_info": {
   "codemirror_mode": {
    "name": "ipython",
    "version": 3
   },
   "file_extension": ".py",
   "mimetype": "text/x-python",
   "name": "python",
   "nbconvert_exporter": "python",
   "pygments_lexer": "ipython3",
   "version": "3.12.1"
  }
 },
 "nbformat": 4,
 "nbformat_minor": 2
}
