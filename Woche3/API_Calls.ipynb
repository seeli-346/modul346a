{
 "cells": [
  {
   "cell_type": "markdown",
   "metadata": {},
   "source": [
    "# API Aufrufe mit Python !!!"
   ]
  },
  {
   "cell_type": "code",
   "execution_count": 3,
   "metadata": {},
   "outputs": [],
   "source": [
    "import requests\n",
    "import json"
   ]
  },
  {
   "cell_type": "markdown",
   "metadata": {},
   "source": [
    "Wir beginnen damit, dass wir die vorher erfassten Users abrufen\n",
    "\n",
    "Dazu musst du die zuvor für dich generierte URL in der nächsten Zelle eintragen"
   ]
  },
  {
   "cell_type": "code",
   "execution_count": 4,
   "metadata": {},
   "outputs": [],
   "source": [
    "url = \"https://ca91e472be78a43e81f5.free.beeceptor.com/api/users\""
   ]
  },
  {
   "cell_type": "code",
   "execution_count": 5,
   "metadata": {},
   "outputs": [
    {
     "data": {
      "text/plain": [
       "[{'first_name': 'Max',\n",
       "  'last_name': 'Mustermann',\n",
       "  'age': 30,\n",
       "  'is_active': True,\n",
       "  'id': '6bdab1bf1915ebfc8b48'},\n",
       " {'first_name': 'Fabian',\n",
       "  'last_name': 'Graf',\n",
       "  'age': 25,\n",
       "  'is_active': True,\n",
       "  'id': '49870f9c17f2d5adf24c'}]"
      ]
     },
     "execution_count": 5,
     "metadata": {},
     "output_type": "execute_result"
    }
   ],
   "source": [
    "# Make the Get request\n",
    "response = requests.get(\n",
    "    url=url\n",
    ")\n",
    "\n",
    "response.json()"
   ]
  },
  {
   "cell_type": "code",
   "execution_count": 6,
   "metadata": {},
   "outputs": [
    {
     "name": "stdout",
     "output_type": "stream",
     "text": [
      "{'first_name': 'Felix', 'last_name': 'Huber', 'age': 22, 'is_active': True, 'id': '5b3535e1830255a980bc'}\n"
     ]
    }
   ],
   "source": [
    "# Jetzt erfassen wir einen neuen User\n",
    "\n",
    "headers = {\n",
    "    'Content-Type': 'application/json',\n",
    "    'Accept': 'application/json'\n",
    "}\n",
    "\n",
    "data = {\n",
    "  \"first_name\": \"Felix\",\n",
    "  \"last_name\": \"Huber\",\n",
    "  \"age\": 22,\n",
    "  \"is_active\": True\n",
    "}\n",
    "\n",
    "# Make the POST request\n",
    "response = requests.post(\n",
    "    url= url,\n",
    "    data=json.dumps(data),\n",
    "    headers=headers\n",
    ")\n",
    "\n",
    "print(response.json())\n",
    "\n"
   ]
  },
  {
   "cell_type": "code",
   "execution_count": 9,
   "metadata": {},
   "outputs": [
    {
     "name": "stdout",
     "output_type": "stream",
     "text": [
      "{'first_name': 'Felix', 'last_name': 'Huber', 'age': 23, 'is_active': False, 'id': '5b3535e1830255a980bc'}\n"
     ]
    }
   ],
   "source": [
    "data2 = {\n",
    "  \"first_name\": \"Felix\",\n",
    "  \"last_name\": \"Huber\",\n",
    "  \"age\": 23,\n",
    "  \"is_active\": False\n",
    "}\n",
    "\n",
    "url2 = url + '/5b3535e1830255a980bc'\n",
    "\n",
    "response = requests.put(\n",
    "    url= url2,\n",
    "    data=json.dumps(data2),\n",
    "    headers=headers\n",
    ")\n",
    "\n",
    "print(response.json())"
   ]
  },
  {
   "cell_type": "code",
   "execution_count": 10,
   "metadata": {},
   "outputs": [
    {
     "name": "stdout",
     "output_type": "stream",
     "text": [
      "<Response [200]>\n"
     ]
    }
   ],
   "source": [
    "response = requests.delete(\n",
    "    url= url2\n",
    "\n",
    ")\n",
    "\n",
    "print(response)"
   ]
  }
 ],
 "metadata": {
  "kernelspec": {
   "display_name": "Python 3",
   "language": "python",
   "name": "python3"
  },
  "language_info": {
   "codemirror_mode": {
    "name": "ipython",
    "version": 3
   },
   "file_extension": ".py",
   "mimetype": "text/x-python",
   "name": "python",
   "nbconvert_exporter": "python",
   "pygments_lexer": "ipython3",
   "version": "3.12.1"
  }
 },
 "nbformat": 4,
 "nbformat_minor": 2
}
